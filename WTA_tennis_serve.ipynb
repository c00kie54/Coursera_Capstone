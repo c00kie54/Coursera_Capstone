{
 "cells": [
  {
   "cell_type": "markdown",
   "metadata": {},
   "source": [
    "# Capstone Project - 2019 WTA Tennis Rankings\n",
    "### Applied Data Science Capstone by IBM/Coursera"
   ]
  },
  {
   "cell_type": "markdown",
   "metadata": {},
   "source": [
    "## Table of contents\n",
    "* [Introduction: Business Problem](#introduction)\n",
    "* [Data](#data)\n",
    "* [Methodology](#methodology)\n",
    "* [Analysis](#analysis)\n",
    "* [Results and Discussion](#results)\n",
    "* [Conclusion](#conclusion)"
   ]
  },
  {
   "cell_type": "markdown",
   "metadata": {},
   "source": [
    "\n",
    "\n",
    "## Introduction: Business Problem <a name=\"introduction\"></a>"
   ]
  },
  {
   "cell_type": "markdown",
   "metadata": {},
   "source": [
    "In this project we will try to create a prediction model that will be able to predict the world ranking of a womens tennis based on thier serve stats from 2019. This may be able to help the WTA provide a better metric for world rankings for example, if two players had the same number of wins in a season, using this metric may differentiate them better. \n",
    "\n",
    "We will use our data science powers to generate predictions of WTA world rankings. "
   ]
  },
  {
   "cell_type": "markdown",
   "metadata": {},
   "source": [
    "## Data <a name=\"data\"></a>"
   ]
  },
  {
   "cell_type": "markdown",
   "metadata": {},
   "source": [
    "The data is taken from the WTA website and provides comprehensive serve statistics for the top womens players in the world for 2019. After around ranking 250, there are gaps between rankings, hence only rankings 1 to 250 will be used. \n",
    "The Key data includes:\n",
    "* Player\n",
    "* Ranking\n",
    "* Matches\n",
    "* Aces\n",
    "* Double Faults\n",
    "* 1st Serve Percentage\n",
    "* 2nd Serve Percentage\n",
    "* 1st Serve Points\n",
    "* 2nd Serve Points\n",
    "* Service Games Win Percentage\n",
    "* Break Point Service Game Win Percentage\n",
    "\n",
    "After data cleaning, exploratory data visualisation will be used to determine if there are any obvious trends within the data that can help with model evaulation."
   ]
  },
  {
   "cell_type": "markdown",
   "metadata": {},
   "source": [
    "### Data properties\n"
   ]
  },
  {
   "cell_type": "code",
   "execution_count": 97,
   "metadata": {},
   "outputs": [],
   "source": [
    "###### LETS IMPORT SOME PACKAGES #########\n",
    "import pandas as pd \n",
    "import numpy as np\n",
    "from pandas import DataFrame\n",
    "import matplotlib.pyplot as plt\n",
    "%matplotlib inline\n",
    "from mpl_toolkits.mplot3d import Axes3D\n",
    "from sklearn import linear_model"
   ]
  },
  {
   "cell_type": "code",
   "execution_count": 17,
   "metadata": {},
   "outputs": [
    {
     "data": {
      "text/plain": [
       "0\n",
       "Pos              object\n",
       "Player           object\n",
       "Rank             object\n",
       "Matches          object\n",
       "Aces             object\n",
       "DF               object\n",
       "1st Srv %        object\n",
       "1st Srv Pts %    object\n",
       "2nd Srv %        object\n",
       "Srv Pts Won %    object\n",
       "BP SVD %         object\n",
       "Srv Gm Won %     object\n",
       "dtype: object"
      ]
     },
     "execution_count": 17,
     "metadata": {},
     "output_type": "execute_result"
    }
   ],
   "source": [
    "##### We need to import out data from CSV ######\n",
    "\n",
    "file_path = 'https://github.com/c00kie54/Coursera_Capstone/raw/master/Serve-Table%201.csv'\n",
    "df = pd.read_csv(file_path, error_bad_lines=False)\n",
    "\n",
    "new_header = df.iloc[0] #grab the first row for the header\n",
    "df = df[1:] #take the data less the header row\n",
    "df.columns = new_header #set the header row as the df header\n",
    "\n",
    "df.dtypes"
   ]
  },
  {
   "cell_type": "code",
   "execution_count": 18,
   "metadata": {},
   "outputs": [
    {
     "data": {
      "text/html": [
       "<div>\n",
       "<style scoped>\n",
       "    .dataframe tbody tr th:only-of-type {\n",
       "        vertical-align: middle;\n",
       "    }\n",
       "\n",
       "    .dataframe tbody tr th {\n",
       "        vertical-align: top;\n",
       "    }\n",
       "\n",
       "    .dataframe thead th {\n",
       "        text-align: right;\n",
       "    }\n",
       "</style>\n",
       "<table border=\"1\" class=\"dataframe\">\n",
       "  <thead>\n",
       "    <tr style=\"text-align: right;\">\n",
       "      <th></th>\n",
       "      <th>Pos</th>\n",
       "      <th>Player</th>\n",
       "      <th>Rank</th>\n",
       "      <th>Matches</th>\n",
       "      <th>Aces</th>\n",
       "      <th>DF</th>\n",
       "      <th>1st Srv %</th>\n",
       "      <th>1st Srv Pts %</th>\n",
       "      <th>2nd Srv %</th>\n",
       "      <th>Srv Pts Won %</th>\n",
       "      <th>BP SVD %</th>\n",
       "      <th>Srv Gm Won %</th>\n",
       "    </tr>\n",
       "  </thead>\n",
       "  <tbody>\n",
       "    <tr>\n",
       "      <th>1</th>\n",
       "      <td>194</td>\n",
       "      <td>\\nKateryna Bondarenko\\nKateryna Bondarenko\\n\\nUKR</td>\n",
       "      <td>9999</td>\n",
       "      <td>2</td>\n",
       "      <td>5</td>\n",
       "      <td>15</td>\n",
       "      <td>48.9%</td>\n",
       "      <td>58.5%</td>\n",
       "      <td>35.3%</td>\n",
       "      <td>46.6%</td>\n",
       "      <td>44.4%</td>\n",
       "      <td>47.4%</td>\n",
       "    </tr>\n",
       "    <tr>\n",
       "      <th>2</th>\n",
       "      <td>219</td>\n",
       "      <td>\\nAna Konjuh\\nAna Konjuh\\n\\nCRO</td>\n",
       "      <td>1270</td>\n",
       "      <td>1</td>\n",
       "      <td>3</td>\n",
       "      <td>8</td>\n",
       "      <td>42.6%</td>\n",
       "      <td>76.9%</td>\n",
       "      <td>42.9%</td>\n",
       "      <td>57.4%</td>\n",
       "      <td>25%</td>\n",
       "      <td>72.7%</td>\n",
       "    </tr>\n",
       "    <tr>\n",
       "      <th>3</th>\n",
       "      <td>272</td>\n",
       "      <td>\\nAnna Tatishvili\\nAnna Tatishvili\\n\\nUSA</td>\n",
       "      <td>993</td>\n",
       "      <td>1</td>\n",
       "      <td>0</td>\n",
       "      <td>4</td>\n",
       "      <td>58.5%</td>\n",
       "      <td>33.3%</td>\n",
       "      <td>17.6%</td>\n",
       "      <td>26.8%</td>\n",
       "      <td>14.3%</td>\n",
       "      <td>0%</td>\n",
       "    </tr>\n",
       "    <tr>\n",
       "      <th>4</th>\n",
       "      <td>175</td>\n",
       "      <td>\\nEkaterina Makarova\\nEkaterina Makarova\\n\\nRUS</td>\n",
       "      <td>992</td>\n",
       "      <td>3</td>\n",
       "      <td>10</td>\n",
       "      <td>9</td>\n",
       "      <td>67.8%</td>\n",
       "      <td>60.5%</td>\n",
       "      <td>44.3%</td>\n",
       "      <td>55.3%</td>\n",
       "      <td>57.6%</td>\n",
       "      <td>62.2%</td>\n",
       "    </tr>\n",
       "    <tr>\n",
       "      <th>5</th>\n",
       "      <td>264</td>\n",
       "      <td>Selena Janicijevic\\nSelena Janicijevic\\n\\nFRA</td>\n",
       "      <td>911</td>\n",
       "      <td>1</td>\n",
       "      <td>0</td>\n",
       "      <td>0</td>\n",
       "      <td>58.1%</td>\n",
       "      <td>44%</td>\n",
       "      <td>27.8%</td>\n",
       "      <td>37.2%</td>\n",
       "      <td>33.3%</td>\n",
       "      <td>14.3%</td>\n",
       "    </tr>\n",
       "  </tbody>\n",
       "</table>\n",
       "</div>"
      ],
      "text/plain": [
       "0  Pos                                             Player  Rank Matches Aces  \\\n",
       "1  194  \\nKateryna Bondarenko\\nKateryna Bondarenko\\n\\nUKR  9999       2    5   \n",
       "2  219                    \\nAna Konjuh\\nAna Konjuh\\n\\nCRO  1270       1    3   \n",
       "3  272          \\nAnna Tatishvili\\nAnna Tatishvili\\n\\nUSA   993       1    0   \n",
       "4  175    \\nEkaterina Makarova\\nEkaterina Makarova\\n\\nRUS   992       3   10   \n",
       "5  264      Selena Janicijevic\\nSelena Janicijevic\\n\\nFRA   911       1    0   \n",
       "\n",
       "0  DF 1st Srv % 1st Srv Pts % 2nd Srv % Srv Pts Won % BP SVD % Srv Gm Won %  \n",
       "1  15     48.9%         58.5%     35.3%         46.6%    44.4%        47.4%  \n",
       "2   8     42.6%         76.9%     42.9%         57.4%      25%        72.7%  \n",
       "3   4     58.5%         33.3%     17.6%         26.8%    14.3%           0%  \n",
       "4   9     67.8%         60.5%     44.3%         55.3%    57.6%        62.2%  \n",
       "5   0     58.1%           44%     27.8%         37.2%    33.3%        14.3%  "
      ]
     },
     "execution_count": 18,
     "metadata": {},
     "output_type": "execute_result"
    }
   ],
   "source": [
    "df.head()"
   ]
  },
  {
   "cell_type": "markdown",
   "metadata": {},
   "source": [
    "### Cleaning the data\n",
    "The data needs cleaning up: \n",
    "1. The types need to be changed to intergers\n",
    "2. Percentages need to be changed to decimals\n",
    "3. Ranks 250+ need to be removed\n",
    "4. The name field shows duplicates \\nKateryna Bondarenko\\nKateryna Bondarenko\\n\\nUKR to Kateryna Bondarenko. May just be easier to remove the name field as we are not actually worried about who is which rank, just looking at service stats and rank."
   ]
  },
  {
   "cell_type": "code",
   "execution_count": 53,
   "metadata": {},
   "outputs": [
    {
     "data": {
      "text/html": [
       "<div>\n",
       "<style scoped>\n",
       "    .dataframe tbody tr th:only-of-type {\n",
       "        vertical-align: middle;\n",
       "    }\n",
       "\n",
       "    .dataframe tbody tr th {\n",
       "        vertical-align: top;\n",
       "    }\n",
       "\n",
       "    .dataframe thead th {\n",
       "        text-align: right;\n",
       "    }\n",
       "</style>\n",
       "<table border=\"1\" class=\"dataframe\">\n",
       "  <thead>\n",
       "    <tr style=\"text-align: right;\">\n",
       "      <th></th>\n",
       "      <th>Rank</th>\n",
       "      <th>Matches</th>\n",
       "      <th>Aces</th>\n",
       "      <th>DF</th>\n",
       "      <th>1st Srv %</th>\n",
       "      <th>1st Srv Pts %</th>\n",
       "      <th>2nd Srv %</th>\n",
       "      <th>Srv Pts Won %</th>\n",
       "      <th>BP SVD %</th>\n",
       "      <th>Srv Gm Won %</th>\n",
       "    </tr>\n",
       "  </thead>\n",
       "  <tbody>\n",
       "    <tr>\n",
       "      <th>1</th>\n",
       "      <td>9999</td>\n",
       "      <td>2</td>\n",
       "      <td>5</td>\n",
       "      <td>15</td>\n",
       "      <td>48.9%</td>\n",
       "      <td>58.5%</td>\n",
       "      <td>35.3%</td>\n",
       "      <td>46.6%</td>\n",
       "      <td>44.4%</td>\n",
       "      <td>47.4%</td>\n",
       "    </tr>\n",
       "    <tr>\n",
       "      <th>2</th>\n",
       "      <td>1270</td>\n",
       "      <td>1</td>\n",
       "      <td>3</td>\n",
       "      <td>8</td>\n",
       "      <td>42.6%</td>\n",
       "      <td>76.9%</td>\n",
       "      <td>42.9%</td>\n",
       "      <td>57.4%</td>\n",
       "      <td>25%</td>\n",
       "      <td>72.7%</td>\n",
       "    </tr>\n",
       "    <tr>\n",
       "      <th>3</th>\n",
       "      <td>993</td>\n",
       "      <td>1</td>\n",
       "      <td>0</td>\n",
       "      <td>4</td>\n",
       "      <td>58.5%</td>\n",
       "      <td>33.3%</td>\n",
       "      <td>17.6%</td>\n",
       "      <td>26.8%</td>\n",
       "      <td>14.3%</td>\n",
       "      <td>0%</td>\n",
       "    </tr>\n",
       "    <tr>\n",
       "      <th>4</th>\n",
       "      <td>992</td>\n",
       "      <td>3</td>\n",
       "      <td>10</td>\n",
       "      <td>9</td>\n",
       "      <td>67.8%</td>\n",
       "      <td>60.5%</td>\n",
       "      <td>44.3%</td>\n",
       "      <td>55.3%</td>\n",
       "      <td>57.6%</td>\n",
       "      <td>62.2%</td>\n",
       "    </tr>\n",
       "    <tr>\n",
       "      <th>5</th>\n",
       "      <td>911</td>\n",
       "      <td>1</td>\n",
       "      <td>0</td>\n",
       "      <td>0</td>\n",
       "      <td>58.1%</td>\n",
       "      <td>44%</td>\n",
       "      <td>27.8%</td>\n",
       "      <td>37.2%</td>\n",
       "      <td>33.3%</td>\n",
       "      <td>14.3%</td>\n",
       "    </tr>\n",
       "  </tbody>\n",
       "</table>\n",
       "</div>"
      ],
      "text/plain": [
       "0  Rank Matches Aces  DF 1st Srv % 1st Srv Pts % 2nd Srv % Srv Pts Won %  \\\n",
       "1  9999       2    5  15     48.9%         58.5%     35.3%         46.6%   \n",
       "2  1270       1    3   8     42.6%         76.9%     42.9%         57.4%   \n",
       "3   993       1    0   4     58.5%         33.3%     17.6%         26.8%   \n",
       "4   992       3   10   9     67.8%         60.5%     44.3%         55.3%   \n",
       "5   911       1    0   0     58.1%           44%     27.8%         37.2%   \n",
       "\n",
       "0 BP SVD % Srv Gm Won %  \n",
       "1    44.4%        47.4%  \n",
       "2      25%        72.7%  \n",
       "3    14.3%           0%  \n",
       "4    57.6%        62.2%  \n",
       "5    33.3%        14.3%  "
      ]
     },
     "execution_count": 53,
     "metadata": {},
     "output_type": "execute_result"
    }
   ],
   "source": [
    "##### Dropping Player Column ######\n",
    "\n",
    "data = df.drop(['Player'],axis=1)\n",
    "data = data.drop(['Pos'],axis=1)\n",
    "data.head()"
   ]
  },
  {
   "cell_type": "code",
   "execution_count": 54,
   "metadata": {},
   "outputs": [
    {
     "data": {
      "text/html": [
       "<div>\n",
       "<style scoped>\n",
       "    .dataframe tbody tr th:only-of-type {\n",
       "        vertical-align: middle;\n",
       "    }\n",
       "\n",
       "    .dataframe tbody tr th {\n",
       "        vertical-align: top;\n",
       "    }\n",
       "\n",
       "    .dataframe thead th {\n",
       "        text-align: right;\n",
       "    }\n",
       "</style>\n",
       "<table border=\"1\" class=\"dataframe\">\n",
       "  <thead>\n",
       "    <tr style=\"text-align: right;\">\n",
       "      <th></th>\n",
       "      <th>Rank</th>\n",
       "      <th>Matches</th>\n",
       "      <th>Aces</th>\n",
       "      <th>DF</th>\n",
       "      <th>1st Srv %</th>\n",
       "      <th>1st Srv Pts %</th>\n",
       "      <th>2nd Srv %</th>\n",
       "      <th>Srv Pts Won %</th>\n",
       "      <th>BP SVD %</th>\n",
       "      <th>Srv Gm Won %</th>\n",
       "    </tr>\n",
       "  </thead>\n",
       "  <tbody>\n",
       "    <tr>\n",
       "      <th>1</th>\n",
       "      <td>9999</td>\n",
       "      <td>2</td>\n",
       "      <td>5</td>\n",
       "      <td>15</td>\n",
       "      <td>0.489</td>\n",
       "      <td>0.489</td>\n",
       "      <td>0.489</td>\n",
       "      <td>0.489</td>\n",
       "      <td>0.489</td>\n",
       "      <td>0.489</td>\n",
       "    </tr>\n",
       "    <tr>\n",
       "      <th>2</th>\n",
       "      <td>1270</td>\n",
       "      <td>1</td>\n",
       "      <td>3</td>\n",
       "      <td>8</td>\n",
       "      <td>0.426</td>\n",
       "      <td>0.426</td>\n",
       "      <td>0.426</td>\n",
       "      <td>0.426</td>\n",
       "      <td>0.426</td>\n",
       "      <td>0.426</td>\n",
       "    </tr>\n",
       "    <tr>\n",
       "      <th>3</th>\n",
       "      <td>993</td>\n",
       "      <td>1</td>\n",
       "      <td>0</td>\n",
       "      <td>4</td>\n",
       "      <td>0.585</td>\n",
       "      <td>0.585</td>\n",
       "      <td>0.585</td>\n",
       "      <td>0.585</td>\n",
       "      <td>0.585</td>\n",
       "      <td>0.585</td>\n",
       "    </tr>\n",
       "    <tr>\n",
       "      <th>4</th>\n",
       "      <td>992</td>\n",
       "      <td>3</td>\n",
       "      <td>10</td>\n",
       "      <td>9</td>\n",
       "      <td>0.678</td>\n",
       "      <td>0.678</td>\n",
       "      <td>0.678</td>\n",
       "      <td>0.678</td>\n",
       "      <td>0.678</td>\n",
       "      <td>0.678</td>\n",
       "    </tr>\n",
       "    <tr>\n",
       "      <th>5</th>\n",
       "      <td>911</td>\n",
       "      <td>1</td>\n",
       "      <td>0</td>\n",
       "      <td>0</td>\n",
       "      <td>0.581</td>\n",
       "      <td>0.581</td>\n",
       "      <td>0.581</td>\n",
       "      <td>0.581</td>\n",
       "      <td>0.581</td>\n",
       "      <td>0.581</td>\n",
       "    </tr>\n",
       "  </tbody>\n",
       "</table>\n",
       "</div>"
      ],
      "text/plain": [
       "0  Rank Matches Aces  DF  1st Srv %  1st Srv Pts %  2nd Srv %  Srv Pts Won %  \\\n",
       "1  9999       2    5  15      0.489          0.489      0.489          0.489   \n",
       "2  1270       1    3   8      0.426          0.426      0.426          0.426   \n",
       "3   993       1    0   4      0.585          0.585      0.585          0.585   \n",
       "4   992       3   10   9      0.678          0.678      0.678          0.678   \n",
       "5   911       1    0   0      0.581          0.581      0.581          0.581   \n",
       "\n",
       "0  BP SVD %  Srv Gm Won %  \n",
       "1     0.489         0.489  \n",
       "2     0.426         0.426  \n",
       "3     0.585         0.585  \n",
       "4     0.678         0.678  \n",
       "5     0.581         0.581  "
      ]
     },
     "execution_count": 54,
     "metadata": {},
     "output_type": "execute_result"
    }
   ],
   "source": [
    "##### Converting percentages to decimals  ######\n",
    "data['1st Srv %'] = df['1st Srv %'].str.rstrip('%').astype('float') / 100.0\n",
    "data['1st Srv Pts %'] = df['1st Srv %'].str.rstrip('%').astype('float') / 100.0\n",
    "data['2nd Srv %'] = df['1st Srv %'].str.rstrip('%').astype('float') / 100.0\n",
    "data['Srv Pts Won %'] = df['1st Srv %'].str.rstrip('%').astype('float') / 100.0\n",
    "data['BP SVD %'] = df['1st Srv %'].str.rstrip('%').astype('float') / 100.0\n",
    "data['Srv Gm Won %'] = df['1st Srv %'].str.rstrip('%').astype('float') / 100.0\n",
    "data.head()"
   ]
  },
  {
   "cell_type": "code",
   "execution_count": 56,
   "metadata": {},
   "outputs": [],
   "source": [
    "##### Converting Objects to floats/intergers  ######\n",
    "data = data.astype(np.float16)\n",
    "data = data.astype({\"Rank\": int,\n",
    "                    \"Matches\": int, \n",
    "                    \"Aces\": int, \n",
    "                    \"DF\":int })\n"
   ]
  },
  {
   "cell_type": "code",
   "execution_count": 57,
   "metadata": {},
   "outputs": [
    {
     "data": {
      "text/html": [
       "<div>\n",
       "<style scoped>\n",
       "    .dataframe tbody tr th:only-of-type {\n",
       "        vertical-align: middle;\n",
       "    }\n",
       "\n",
       "    .dataframe tbody tr th {\n",
       "        vertical-align: top;\n",
       "    }\n",
       "\n",
       "    .dataframe thead th {\n",
       "        text-align: right;\n",
       "    }\n",
       "</style>\n",
       "<table border=\"1\" class=\"dataframe\">\n",
       "  <thead>\n",
       "    <tr style=\"text-align: right;\">\n",
       "      <th></th>\n",
       "      <th>Rank</th>\n",
       "      <th>Matches</th>\n",
       "      <th>Aces</th>\n",
       "      <th>DF</th>\n",
       "      <th>1st Srv %</th>\n",
       "      <th>1st Srv Pts %</th>\n",
       "      <th>2nd Srv %</th>\n",
       "      <th>Srv Pts Won %</th>\n",
       "      <th>BP SVD %</th>\n",
       "      <th>Srv Gm Won %</th>\n",
       "    </tr>\n",
       "  </thead>\n",
       "  <tbody>\n",
       "    <tr>\n",
       "      <th>1</th>\n",
       "      <td>10000</td>\n",
       "      <td>2</td>\n",
       "      <td>5</td>\n",
       "      <td>15</td>\n",
       "      <td>0.489014</td>\n",
       "      <td>0.489014</td>\n",
       "      <td>0.489014</td>\n",
       "      <td>0.489014</td>\n",
       "      <td>0.489014</td>\n",
       "      <td>0.489014</td>\n",
       "    </tr>\n",
       "    <tr>\n",
       "      <th>2</th>\n",
       "      <td>1270</td>\n",
       "      <td>1</td>\n",
       "      <td>3</td>\n",
       "      <td>8</td>\n",
       "      <td>0.426025</td>\n",
       "      <td>0.426025</td>\n",
       "      <td>0.426025</td>\n",
       "      <td>0.426025</td>\n",
       "      <td>0.426025</td>\n",
       "      <td>0.426025</td>\n",
       "    </tr>\n",
       "    <tr>\n",
       "      <th>3</th>\n",
       "      <td>993</td>\n",
       "      <td>1</td>\n",
       "      <td>0</td>\n",
       "      <td>4</td>\n",
       "      <td>0.584961</td>\n",
       "      <td>0.584961</td>\n",
       "      <td>0.584961</td>\n",
       "      <td>0.584961</td>\n",
       "      <td>0.584961</td>\n",
       "      <td>0.584961</td>\n",
       "    </tr>\n",
       "    <tr>\n",
       "      <th>4</th>\n",
       "      <td>992</td>\n",
       "      <td>3</td>\n",
       "      <td>10</td>\n",
       "      <td>9</td>\n",
       "      <td>0.678223</td>\n",
       "      <td>0.678223</td>\n",
       "      <td>0.678223</td>\n",
       "      <td>0.678223</td>\n",
       "      <td>0.678223</td>\n",
       "      <td>0.678223</td>\n",
       "    </tr>\n",
       "    <tr>\n",
       "      <th>5</th>\n",
       "      <td>911</td>\n",
       "      <td>1</td>\n",
       "      <td>0</td>\n",
       "      <td>0</td>\n",
       "      <td>0.581055</td>\n",
       "      <td>0.581055</td>\n",
       "      <td>0.581055</td>\n",
       "      <td>0.581055</td>\n",
       "      <td>0.581055</td>\n",
       "      <td>0.581055</td>\n",
       "    </tr>\n",
       "  </tbody>\n",
       "</table>\n",
       "</div>"
      ],
      "text/plain": [
       "0   Rank  Matches  Aces  DF  1st Srv %  1st Srv Pts %  2nd Srv %  \\\n",
       "1  10000        2     5  15   0.489014       0.489014   0.489014   \n",
       "2   1270        1     3   8   0.426025       0.426025   0.426025   \n",
       "3    993        1     0   4   0.584961       0.584961   0.584961   \n",
       "4    992        3    10   9   0.678223       0.678223   0.678223   \n",
       "5    911        1     0   0   0.581055       0.581055   0.581055   \n",
       "\n",
       "0  Srv Pts Won %  BP SVD %  Srv Gm Won %  \n",
       "1       0.489014  0.489014      0.489014  \n",
       "2       0.426025  0.426025      0.426025  \n",
       "3       0.584961  0.584961      0.584961  \n",
       "4       0.678223  0.678223      0.678223  \n",
       "5       0.581055  0.581055      0.581055  "
      ]
     },
     "execution_count": 57,
     "metadata": {},
     "output_type": "execute_result"
    }
   ],
   "source": [
    "data.head()"
   ]
  },
  {
   "cell_type": "code",
   "execution_count": 58,
   "metadata": {},
   "outputs": [],
   "source": [
    "# Get names of indexes for which column Rank has value greater than 250 \n",
    "indexNames = data[ data['Rank'] > 250 ].index\n",
    "# Delete these row indexes from dataFrame\n",
    "data.drop(indexNames , inplace=True)"
   ]
  },
  {
   "cell_type": "code",
   "execution_count": 59,
   "metadata": {},
   "outputs": [
    {
     "data": {
      "text/html": [
       "<div>\n",
       "<style scoped>\n",
       "    .dataframe tbody tr th:only-of-type {\n",
       "        vertical-align: middle;\n",
       "    }\n",
       "\n",
       "    .dataframe tbody tr th {\n",
       "        vertical-align: top;\n",
       "    }\n",
       "\n",
       "    .dataframe thead th {\n",
       "        text-align: right;\n",
       "    }\n",
       "</style>\n",
       "<table border=\"1\" class=\"dataframe\">\n",
       "  <thead>\n",
       "    <tr style=\"text-align: right;\">\n",
       "      <th></th>\n",
       "      <th>Rank</th>\n",
       "      <th>Matches</th>\n",
       "      <th>Aces</th>\n",
       "      <th>DF</th>\n",
       "      <th>1st Srv %</th>\n",
       "      <th>1st Srv Pts %</th>\n",
       "      <th>2nd Srv %</th>\n",
       "      <th>Srv Pts Won %</th>\n",
       "      <th>BP SVD %</th>\n",
       "      <th>Srv Gm Won %</th>\n",
       "    </tr>\n",
       "  </thead>\n",
       "  <tbody>\n",
       "    <tr>\n",
       "      <th>66</th>\n",
       "      <td>250</td>\n",
       "      <td>3</td>\n",
       "      <td>20</td>\n",
       "      <td>13</td>\n",
       "      <td>0.544922</td>\n",
       "      <td>0.544922</td>\n",
       "      <td>0.544922</td>\n",
       "      <td>0.544922</td>\n",
       "      <td>0.544922</td>\n",
       "      <td>0.544922</td>\n",
       "    </tr>\n",
       "    <tr>\n",
       "      <th>67</th>\n",
       "      <td>249</td>\n",
       "      <td>3</td>\n",
       "      <td>2</td>\n",
       "      <td>3</td>\n",
       "      <td>0.757812</td>\n",
       "      <td>0.757812</td>\n",
       "      <td>0.757812</td>\n",
       "      <td>0.757812</td>\n",
       "      <td>0.757812</td>\n",
       "      <td>0.757812</td>\n",
       "    </tr>\n",
       "    <tr>\n",
       "      <th>68</th>\n",
       "      <td>248</td>\n",
       "      <td>3</td>\n",
       "      <td>2</td>\n",
       "      <td>4</td>\n",
       "      <td>0.597168</td>\n",
       "      <td>0.597168</td>\n",
       "      <td>0.597168</td>\n",
       "      <td>0.597168</td>\n",
       "      <td>0.597168</td>\n",
       "      <td>0.597168</td>\n",
       "    </tr>\n",
       "    <tr>\n",
       "      <th>69</th>\n",
       "      <td>247</td>\n",
       "      <td>3</td>\n",
       "      <td>13</td>\n",
       "      <td>20</td>\n",
       "      <td>0.526855</td>\n",
       "      <td>0.526855</td>\n",
       "      <td>0.526855</td>\n",
       "      <td>0.526855</td>\n",
       "      <td>0.526855</td>\n",
       "      <td>0.526855</td>\n",
       "    </tr>\n",
       "    <tr>\n",
       "      <th>70</th>\n",
       "      <td>246</td>\n",
       "      <td>1</td>\n",
       "      <td>4</td>\n",
       "      <td>9</td>\n",
       "      <td>0.465088</td>\n",
       "      <td>0.465088</td>\n",
       "      <td>0.465088</td>\n",
       "      <td>0.465088</td>\n",
       "      <td>0.465088</td>\n",
       "      <td>0.465088</td>\n",
       "    </tr>\n",
       "  </tbody>\n",
       "</table>\n",
       "</div>"
      ],
      "text/plain": [
       "0   Rank  Matches  Aces  DF  1st Srv %  1st Srv Pts %  2nd Srv %  \\\n",
       "66   250        3    20  13   0.544922       0.544922   0.544922   \n",
       "67   249        3     2   3   0.757812       0.757812   0.757812   \n",
       "68   248        3     2   4   0.597168       0.597168   0.597168   \n",
       "69   247        3    13  20   0.526855       0.526855   0.526855   \n",
       "70   246        1     4   9   0.465088       0.465088   0.465088   \n",
       "\n",
       "0   Srv Pts Won %  BP SVD %  Srv Gm Won %  \n",
       "66       0.544922  0.544922      0.544922  \n",
       "67       0.757812  0.757812      0.757812  \n",
       "68       0.597168  0.597168      0.597168  \n",
       "69       0.526855  0.526855      0.526855  \n",
       "70       0.465088  0.465088      0.465088  "
      ]
     },
     "execution_count": 59,
     "metadata": {},
     "output_type": "execute_result"
    }
   ],
   "source": [
    "data.head()"
   ]
  },
  {
   "cell_type": "code",
   "execution_count": 60,
   "metadata": {},
   "outputs": [
    {
     "data": {
      "text/plain": [
       "(221, 10)"
      ]
     },
     "execution_count": 60,
     "metadata": {},
     "output_type": "execute_result"
    }
   ],
   "source": [
    "data.shape"
   ]
  },
  {
   "cell_type": "markdown",
   "metadata": {},
   "source": [
    "The data has been cleansed. We now have 221 ranks from 1 to 250 and 11 columns of data."
   ]
  },
  {
   "cell_type": "markdown",
   "metadata": {},
   "source": [
    "## Exploratory Analysis"
   ]
  },
  {
   "cell_type": "markdown",
   "metadata": {},
   "source": [
    "Here we can do some simple plots to determine if there are any obvious relationships between the different data classes."
   ]
  },
  {
   "cell_type": "code",
   "execution_count": 67,
   "metadata": {},
   "outputs": [
    {
     "data": {
      "text/plain": [
       "Text(0, 0.5, 'Number of matches')"
      ]
     },
     "execution_count": 67,
     "metadata": {},
     "output_type": "execute_result"
    },
    {
     "data": {
      "image/png": "[encoded data removed]",
      "text/plain": [
       "<Figure size 432x288 with 1 Axes>"
      ]
     },
     "metadata": {
      "needs_background": "light"
     },
     "output_type": "display_data"
    }
   ],
   "source": [
    "x = data['Rank']\n",
    "y = data['Matches']\n",
    "plt.plot(x,y,'r.')\n",
    "plt.title(\"Number of matchs vs Rank\")\n",
    "plt.xlabel('Rank')\n",
    "plt.ylabel('Number of matches')"
   ]
  },
  {
   "cell_type": "code",
   "execution_count": 68,
   "metadata": {},
   "outputs": [
    {
     "data": {
      "text/plain": [
       "Text(0, 0.5, 'Number of Aces')"
      ]
     },
     "execution_count": 68,
     "metadata": {},
     "output_type": "execute_result"
    },
    {
     "data": {
      "image/png": "[encoded data removed]",
      "text/plain": [
       "<Figure size 432x288 with 1 Axes>"
      ]
     },
     "metadata": {
      "needs_background": "light"
     },
     "output_type": "display_data"
    }
   ],
   "source": [
    "x = data['Rank']\n",
    "y = data['Aces']\n",
    "plt.plot(x,y,'r.')\n",
    "plt.title(\"Number of Aces vs Rank\")\n",
    "plt.xlabel('Rank')\n",
    "plt.ylabel('Number of Aces')"
   ]
  },
  {
   "cell_type": "code",
   "execution_count": 69,
   "metadata": {},
   "outputs": [
    {
     "data": {
      "text/plain": [
       "Text(0, 0.5, 'Number of Double faults')"
      ]
     },
     "execution_count": 69,
     "metadata": {},
     "output_type": "execute_result"
    },
    {
     "data": {
      "image/png": "[encoded data removed]",
      "text/plain": [
       "<Figure size 432x288 with 1 Axes>"
      ]
     },
     "metadata": {
      "needs_background": "light"
     },
     "output_type": "display_data"
    }
   ],
   "source": [
    "x = data['Rank']\n",
    "y = data['DF']\n",
    "plt.plot(x,y,'r.')\n",
    "plt.title(\"Number of Double faults vs Rank\")\n",
    "plt.xlabel('Rank')\n",
    "plt.ylabel('Number of Double faults')"
   ]
  },
  {
   "cell_type": "code",
   "execution_count": 72,
   "metadata": {},
   "outputs": [
    {
     "data": {
      "text/plain": [
       "Text(0, 0.5, '1st Srv %')"
      ]
     },
     "execution_count": 72,
     "metadata": {},
     "output_type": "execute_result"
    },
    {
     "data": {
      "image/png": "[encoded data removed]",
      "text/plain": [
       "<Figure size 432x288 with 1 Axes>"
      ]
     },
     "metadata": {
      "needs_background": "light"
     },
     "output_type": "display_data"
    }
   ],
   "source": [
    "x = data['Rank']\n",
    "y = data['1st Srv %']\n",
    "plt.plot(x,y,'r.')\n",
    "plt.title(\"1st Srv % vs Rank\")\n",
    "plt.xlabel('Rank')\n",
    "plt.ylabel('1st Srv %')"
   ]
  },
  {
   "cell_type": "code",
   "execution_count": 74,
   "metadata": {},
   "outputs": [
    {
     "data": {
      "text/plain": [
       "Text(0, 0.5, '1st Srv Pts %')"
      ]
     },
     "execution_count": 74,
     "metadata": {},
     "output_type": "execute_result"
    },
    {
     "data": {
      "image/png": "[encoded data removed]",
      "text/plain": [
       "<Figure size 432x288 with 1 Axes>"
      ]
     },
     "metadata": {
      "needs_background": "light"
     },
     "output_type": "display_data"
    }
   ],
   "source": [
    "x = data['Rank']\n",
    "y = data['1st Srv Pts %']\n",
    "plt.plot(x,y,'r.')\n",
    "plt.title(\"1st Srv Pts % vs Rank\")\n",
    "plt.xlabel('Rank')\n",
    "plt.ylabel('1st Srv Pts %')"
   ]
  },
  {
   "cell_type": "code",
   "execution_count": 76,
   "metadata": {},
   "outputs": [
    {
     "data": {
      "text/plain": [
       "Text(0, 0.5, '2nd Srv %')"
      ]
     },
     "execution_count": 76,
     "metadata": {},
     "output_type": "execute_result"
    },
    {
     "data": {
      "image/png": "[encoded data removed]",
      "text/plain": [
       "<Figure size 432x288 with 1 Axes>"
      ]
     },
     "metadata": {
      "needs_background": "light"
     },
     "output_type": "display_data"
    }
   ],
   "source": [
    "x = data['Rank']\n",
    "y = data['2nd Srv %']\n",
    "plt.plot(x,y,'r.')\n",
    "plt.title(\"2nd Srv %  vs Rank\")\n",
    "plt.xlabel('Rank')\n",
    "plt.ylabel('2nd Srv %')\n"
   ]
  },
  {
   "cell_type": "code",
   "execution_count": 77,
   "metadata": {},
   "outputs": [
    {
     "data": {
      "text/plain": [
       "Text(0, 0.5, 'Srv Pts Won %')"
      ]
     },
     "execution_count": 77,
     "metadata": {},
     "output_type": "execute_result"
    },
    {
     "data": {
      "image/png": "[encoded data removed]",
      "text/plain": [
       "<Figure size 432x288 with 1 Axes>"
      ]
     },
     "metadata": {
      "needs_background": "light"
     },
     "output_type": "display_data"
    }
   ],
   "source": [
    "x = data['Rank']\n",
    "y = data['Srv Pts Won %']\n",
    "plt.plot(x,y,'r.')\n",
    "plt.title(\"Srv Pts Won % vs Rank\")\n",
    "plt.xlabel('Rank')\n",
    "plt.ylabel('Srv Pts Won %')\n"
   ]
  },
  {
   "cell_type": "code",
   "execution_count": 78,
   "metadata": {},
   "outputs": [
    {
     "data": {
      "text/plain": [
       "Text(0, 0.5, 'BP SVD %')"
      ]
     },
     "execution_count": 78,
     "metadata": {},
     "output_type": "execute_result"
    },
    {
     "data": {
      "image/png": "[encoded data removed]",
      "text/plain": [
       "<Figure size 432x288 with 1 Axes>"
      ]
     },
     "metadata": {
      "needs_background": "light"
     },
     "output_type": "display_data"
    }
   ],
   "source": [
    "x = data['Rank']\n",
    "y = data['BP SVD %']\n",
    "plt.plot(x,y,'r.')\n",
    "plt.title(\"BP SVD % vs Rank\")\n",
    "plt.xlabel('Rank')\n",
    "plt.ylabel('BP SVD %')\n",
    "\n"
   ]
  },
  {
   "cell_type": "code",
   "execution_count": 79,
   "metadata": {},
   "outputs": [
    {
     "data": {
      "text/plain": [
       "Text(0, 0.5, 'Srv Gm Won %')"
      ]
     },
     "execution_count": 79,
     "metadata": {},
     "output_type": "execute_result"
    },
    {
     "data": {
      "image/png": "[encoded data removed]",
      "text/plain": [
       "<Figure size 432x288 with 1 Axes>"
      ]
     },
     "metadata": {
      "needs_background": "light"
     },
     "output_type": "display_data"
    }
   ],
   "source": [
    "\n",
    "x = data['Rank']\n",
    "y = data['Srv Gm Won %']\n",
    "plt.plot(x,y,'r.')\n",
    "plt.title(\"Srv Gm Won % vs Rank\")\n",
    "plt.xlabel('Rank')\n",
    "plt.ylabel('Srv Gm Won %')\n",
    "\n"
   ]
  },
  {
   "cell_type": "markdown",
   "metadata": {},
   "source": [
    "From the exploratory data visualisation we can see:\n",
    "1. As number of matches increase rank tends to increase\n",
    "2. AS number of aces increase rank tends to increase \n",
    "3. There is no obvious relationshio between serv statistics and rank\n",
    "\n",
    "\n"
   ]
  },
  {
   "cell_type": "markdown",
   "metadata": {},
   "source": [
    "## Methodology <a name=\"methodology\"></a>"
   ]
  },
  {
   "cell_type": "markdown",
   "metadata": {},
   "source": [
    "The most sensible machine learning algorith to predict the rank of tennis players based on thier surving stats is the regression method. We have seen there are some linear and non-linear relationships from the exploratory analysis. We should use a non-linear multiple regression, however this is outside the scope of the course. Instead we shall use a multiple linear regression. Simple non-linear regression would not be suitable as we have multiple input data, hence multiple linear regression is the most sensible technique.\n",
    "\n",
    "The multiple linear regression requires the data to be split into a training and testing data set. This will have an 80% split. The model coefficients will be created on the training dataset and then evaluated on the test datasets. \n",
    "\n",
    "Different input paramterts will be selected to see if we can improve the model and infer any relationships."
   ]
  },
  {
   "cell_type": "markdown",
   "metadata": {},
   "source": [
    "## Training Model <a name=\"Training Model\"></a>"
   ]
  },
  {
   "cell_type": "code",
   "execution_count": 93,
   "metadata": {},
   "outputs": [
    {
     "data": {
      "text/html": [
       "<div>\n",
       "<style scoped>\n",
       "    .dataframe tbody tr th:only-of-type {\n",
       "        vertical-align: middle;\n",
       "    }\n",
       "\n",
       "    .dataframe tbody tr th {\n",
       "        vertical-align: top;\n",
       "    }\n",
       "\n",
       "    .dataframe thead th {\n",
       "        text-align: right;\n",
       "    }\n",
       "</style>\n",
       "<table border=\"1\" class=\"dataframe\">\n",
       "  <thead>\n",
       "    <tr style=\"text-align: right;\">\n",
       "      <th></th>\n",
       "      <th>Rank</th>\n",
       "      <th>Matches</th>\n",
       "      <th>Aces</th>\n",
       "      <th>DF</th>\n",
       "      <th>1st Srv %</th>\n",
       "      <th>1st Srv Pts %</th>\n",
       "      <th>2nd Srv %</th>\n",
       "      <th>Srv Pts Won %</th>\n",
       "      <th>BP SVD %</th>\n",
       "      <th>Srv Gm Won %</th>\n",
       "    </tr>\n",
       "  </thead>\n",
       "  <tbody>\n",
       "    <tr>\n",
       "      <th>66</th>\n",
       "      <td>250</td>\n",
       "      <td>3</td>\n",
       "      <td>20</td>\n",
       "      <td>13</td>\n",
       "      <td>0.544922</td>\n",
       "      <td>0.544922</td>\n",
       "      <td>0.544922</td>\n",
       "      <td>0.544922</td>\n",
       "      <td>0.544922</td>\n",
       "      <td>0.544922</td>\n",
       "    </tr>\n",
       "    <tr>\n",
       "      <th>67</th>\n",
       "      <td>249</td>\n",
       "      <td>3</td>\n",
       "      <td>2</td>\n",
       "      <td>3</td>\n",
       "      <td>0.757812</td>\n",
       "      <td>0.757812</td>\n",
       "      <td>0.757812</td>\n",
       "      <td>0.757812</td>\n",
       "      <td>0.757812</td>\n",
       "      <td>0.757812</td>\n",
       "    </tr>\n",
       "    <tr>\n",
       "      <th>68</th>\n",
       "      <td>248</td>\n",
       "      <td>3</td>\n",
       "      <td>2</td>\n",
       "      <td>4</td>\n",
       "      <td>0.597168</td>\n",
       "      <td>0.597168</td>\n",
       "      <td>0.597168</td>\n",
       "      <td>0.597168</td>\n",
       "      <td>0.597168</td>\n",
       "      <td>0.597168</td>\n",
       "    </tr>\n",
       "    <tr>\n",
       "      <th>69</th>\n",
       "      <td>247</td>\n",
       "      <td>3</td>\n",
       "      <td>13</td>\n",
       "      <td>20</td>\n",
       "      <td>0.526855</td>\n",
       "      <td>0.526855</td>\n",
       "      <td>0.526855</td>\n",
       "      <td>0.526855</td>\n",
       "      <td>0.526855</td>\n",
       "      <td>0.526855</td>\n",
       "    </tr>\n",
       "    <tr>\n",
       "      <th>70</th>\n",
       "      <td>246</td>\n",
       "      <td>1</td>\n",
       "      <td>4</td>\n",
       "      <td>9</td>\n",
       "      <td>0.465088</td>\n",
       "      <td>0.465088</td>\n",
       "      <td>0.465088</td>\n",
       "      <td>0.465088</td>\n",
       "      <td>0.465088</td>\n",
       "      <td>0.465088</td>\n",
       "    </tr>\n",
       "  </tbody>\n",
       "</table>\n",
       "</div>"
      ],
      "text/plain": [
       "0   Rank  Matches  Aces  DF  1st Srv %  1st Srv Pts %  2nd Srv %  \\\n",
       "66   250        3    20  13   0.544922       0.544922   0.544922   \n",
       "67   249        3     2   3   0.757812       0.757812   0.757812   \n",
       "68   248        3     2   4   0.597168       0.597168   0.597168   \n",
       "69   247        3    13  20   0.526855       0.526855   0.526855   \n",
       "70   246        1     4   9   0.465088       0.465088   0.465088   \n",
       "\n",
       "0   Srv Pts Won %  BP SVD %  Srv Gm Won %  \n",
       "66       0.544922  0.544922      0.544922  \n",
       "67       0.757812  0.757812      0.757812  \n",
       "68       0.597168  0.597168      0.597168  \n",
       "69       0.526855  0.526855      0.526855  \n",
       "70       0.465088  0.465088      0.465088  "
      ]
     },
     "execution_count": 93,
     "metadata": {},
     "output_type": "execute_result"
    }
   ],
   "source": [
    "#Create the Train and test split\n",
    "msk = np.random.rand(len(data)) < 0.8\n",
    "train = data[msk]\n",
    "test = data[~msk]\n",
    "train.head()"
   ]
  },
  {
   "cell_type": "code",
   "execution_count": 95,
   "metadata": {},
   "outputs": [
    {
     "data": {
      "image/png": "[encoded data removed]",
      "text/plain": [
       "<Figure size 432x288 with 1 Axes>"
      ]
     },
     "metadata": {
      "needs_background": "light"
     },
     "output_type": "display_data"
    }
   ],
   "source": [
    "plt.scatter(train.Rank, train.Aces,  color='blue')\n",
    "plt.xlabel(\"Rank\")\n",
    "plt.ylabel(\"Aces\")\n",
    "plt.title(\"Train\")\n",
    "plt.show()"
   ]
  },
  {
   "cell_type": "code",
   "execution_count": 96,
   "metadata": {},
   "outputs": [
    {
     "data": {
      "image/png": "[encoded data removed]",
      "text/plain": [
       "<Figure size 432x288 with 1 Axes>"
      ]
     },
     "metadata": {
      "needs_background": "light"
     },
     "output_type": "display_data"
    }
   ],
   "source": [
    "plt.scatter(test.Rank, test.Aces,  color='blue')\n",
    "plt.xlabel(\"Rank\")\n",
    "plt.ylabel(\"Aces\")\n",
    "plt.title(\"Test\")\n",
    "plt.show()"
   ]
  },
  {
   "cell_type": "markdown",
   "metadata": {},
   "source": [
    "Looks like the train test split has worked - moving on...\n"
   ]
  },
  {
   "cell_type": "code",
   "execution_count": 98,
   "metadata": {},
   "outputs": [
    {
     "data": {
      "text/plain": [
       "['Rank',\n",
       " 'Matches',\n",
       " 'Aces',\n",
       " 'DF',\n",
       " '1st Srv %',\n",
       " '1st Srv Pts %',\n",
       " '2nd Srv %',\n",
       " 'Srv Pts Won %',\n",
       " 'BP SVD %',\n",
       " 'Srv Gm Won %']"
      ]
     },
     "execution_count": 98,
     "metadata": {},
     "output_type": "execute_result"
    }
   ],
   "source": [
    "list(data.columns)"
   ]
  },
  {
   "cell_type": "code",
   "execution_count": 99,
   "metadata": {},
   "outputs": [
    {
     "name": "stdout",
     "output_type": "stream",
     "text": [
      "Coefficients:  [[ -4.16161335   0.07994436   0.15445892 -11.95767715 -11.95767715\n",
      "  -11.95767715 -11.95767715 -11.95767715 -11.95767715]]\n"
     ]
    }
   ],
   "source": [
    "\n",
    "regr = linear_model.LinearRegression()\n",
    "x = np.asanyarray(train[['Matches','Aces','DF','1st Srv %','1st Srv Pts %','2nd Srv %','Srv Pts Won %','BP SVD %','Srv Gm Won %']])\n",
    "y = np.asanyarray(train[['Rank']])\n",
    "regr.fit (x, y)\n",
    "# The coefficients\n",
    "print ('Coefficients: ', regr.coef_)"
   ]
  },
  {
   "cell_type": "code",
   "execution_count": 100,
   "metadata": {},
   "outputs": [
    {
     "name": "stdout",
     "output_type": "stream",
     "text": [
      "Residual sum of squares: 1649.47\n",
      "Variance score: 0.67\n"
     ]
    }
   ],
   "source": [
    "y_hat= regr.predict(test[['Matches','Aces','DF','1st Srv %','1st Srv Pts %','2nd Srv %','Srv Pts Won %','BP SVD %','Srv Gm Won %']])\n",
    "x = np.asanyarray(test[['Matches','Aces','DF','1st Srv %','1st Srv Pts %','2nd Srv %','Srv Pts Won %','BP SVD %','Srv Gm Won %']])\n",
    "y = np.asanyarray(test[['Rank']])\n",
    "print(\"Residual sum of squares: %.2f\"\n",
    "      % np.mean((y_hat - y) ** 2))\n",
    "\n",
    "# Explained variance score: 1 is perfect prediction\n",
    "print('Variance score: %.2f' % regr.score(x, y))"
   ]
  },
  {
   "cell_type": "markdown",
   "metadata": {},
   "source": [
    "Right so Variance is 0.67 maybe we could simplify and just use matches, aces and DF...\n",
    "Lets see if that improves it.\n"
   ]
  },
  {
   "cell_type": "code",
   "execution_count": 103,
   "metadata": {},
   "outputs": [
    {
     "name": "stdout",
     "output_type": "stream",
     "text": [
      "Coefficients:  [[-4.32520063  0.09911102  0.18323342]]\n",
      "Residual sum of squares: 1607.82\n",
      "Variance score: 0.68\n"
     ]
    }
   ],
   "source": [
    "\n",
    "regr = linear_model.LinearRegression()\n",
    "x = np.asanyarray(train[['Matches','Aces','DF']])\n",
    "y = np.asanyarray(train[['Rank']])\n",
    "regr.fit (x, y)\n",
    "# The coefficients\n",
    "print ('Coefficients: ', regr.coef_)\n",
    "y_hat= regr.predict(test[['Matches','Aces','DF']])\n",
    "x = np.asanyarray(test[['Matches','Aces','DF']])\n",
    "y = np.asanyarray(test[['Rank']])\n",
    "print(\"Residual sum of squares: %.2f\"\n",
    "      % np.mean((y_hat - y) ** 2))\n",
    "\n",
    "# Explained variance score: 1 is perfect prediction\n",
    "print('Variance score: %.2f' % regr.score(x, y))"
   ]
  },
  {
   "cell_type": "markdown",
   "metadata": {},
   "source": [
    "Slight improvement 0.68 variance and RSS is lower.\n",
    "Lets try the model with just percentage stats...."
   ]
  },
  {
   "cell_type": "code",
   "execution_count": 105,
   "metadata": {},
   "outputs": [
    {
     "name": "stdout",
     "output_type": "stream",
     "text": [
      "Coefficients:  [[-11.03085  -11.030851 -11.030853 -11.030853 -11.030853 -11.030853]]\n",
      "Residual sum of squares: 5362.02\n",
      "Variance score: -0.08\n"
     ]
    }
   ],
   "source": [
    "\n",
    "regr = linear_model.LinearRegression()\n",
    "x = np.asanyarray(train[['1st Srv %','1st Srv Pts %','2nd Srv %','Srv Pts Won %','BP SVD %','Srv Gm Won %']])\n",
    "y = np.asanyarray(train[['Rank']])\n",
    "regr.fit (x, y)\n",
    "# The coefficients\n",
    "print ('Coefficients: ', regr.coef_)\n",
    "y_hat= regr.predict(test[['1st Srv %','1st Srv Pts %''Srv Pts Won %','BP SVD %','Srv Gm Won %']])\n",
    "x = np.asanyarray(test[['1st Srv %','1st Srv Pts %','2nd Srv %','Srv Pts Won %','BP SVD %','Srv Gm Won %']])\n",
    "y = np.asanyarray(test[['Rank']])\n",
    "print(\"Residual sum of squares: %.2f\"\n",
    "      % np.mean((y_hat - y) ** 2))\n",
    "\n",
    "# Explained variance score: 1 is perfect prediction\n",
    "print('Variance score: %.2f' % regr.score(x, y))"
   ]
  },
  {
   "cell_type": "markdown",
   "metadata": {},
   "source": [
    "So this clearly shows us that there is no relationship between service stats and rank"
   ]
  },
  {
   "cell_type": "markdown",
   "metadata": {},
   "source": [
    "## Results and Discussion <a name=\"results\"></a>"
   ]
  },
  {
   "cell_type": "markdown",
   "metadata": {},
   "source": [
    "Our analysis shows that there is a relationship between number of matches played, number of aces and number of double faults vs rank. There is a no relationshio between service percentages and rank. There may be some flaw with the methodolgy. We see that some of the data relationships with rank are non-linear hence a multiple non-linear regression should be used, however this is outside the scope of this course.\n",
    "The regression model was best when only using matches, aces and double faults to predict the rank. The variance was 0.67 which provides little confidence in the model. This may be due to the factors not considered in this investigation such as return statistics, unforced errors, winners etc. Further investigation should include these. \n"
   ]
  },
  {
   "cell_type": "markdown",
   "metadata": {},
   "source": [
    "## Conclusion <a name=\"conclusion\"></a>"
   ]
  },
  {
   "cell_type": "markdown",
   "metadata": {},
   "source": [
    "The regression model was suitable for the prediction, however the results were not optimal. This may be due to the factors not considered in this study and further investigation is needed in order to predict womens tennis rankings in the future. "
   ]
  },
  {
   "cell_type": "code",
   "execution_count": null,
   "metadata": {},
   "outputs": [],
   "source": []
  }
 ],
 "metadata": {
  "kernelspec": {
   "display_name": "Python 3",
   "language": "python",
   "name": "python3"
  },
  "language_info": {
   "codemirror_mode": {
    "name": "ipython",
    "version": 3
   },
   "file_extension": ".py",
   "mimetype": "text/x-python",
   "name": "python",
   "nbconvert_exporter": "python",
   "pygments_lexer": "ipython3",
   "version": "3.7.6"
  }
 },
 "nbformat": 4,
 "nbformat_minor": 4
}
